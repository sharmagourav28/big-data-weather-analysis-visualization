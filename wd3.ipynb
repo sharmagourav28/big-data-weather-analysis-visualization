{
 "cells": [
  {
   "cell_type": "code",
   "execution_count": 87,
   "metadata": {},
   "outputs": [
    {
     "data": {
      "application/vnd.jupyter.widget-view+json": {
       "model_id": "",
       "version_major": 2,
       "version_minor": 0
      },
      "text/plain": [
       "FloatProgress(value=0.0, bar_style='info', description='Progress:', layout=Layout(height='25px', width='50%'),…"
      ]
     },
     "metadata": {},
     "output_type": "display_data"
    }
   ],
   "source": [
    "import sys\n",
    "from pyspark.context import SparkContext\n",
    "from pyspark.sql import SparkSession\n",
    "from pyspark.sql import functions as F\n",
    "from pyspark.sql.functions import (\n",
    "    col, regexp_extract, regexp_replace, initcap, to_timestamp, to_date\n",
    ")"
   ]
  },
  {
   "cell_type": "code",
   "execution_count": 3,
   "metadata": {},
   "outputs": [
    {
     "data": {
      "application/vnd.jupyter.widget-view+json": {
       "model_id": "",
       "version_major": 2,
       "version_minor": 0
      },
      "text/plain": [
       "FloatProgress(value=0.0, bar_style='info', description='Progress:', layout=Layout(height='25px', width='50%'),…"
      ]
     },
     "metadata": {},
     "output_type": "display_data"
    }
   ],
   "source": [
    "base_paths = [\n",
    "    \"s3://allweatherdatastatelaglongwd3/files/\"\n",
    "]"
   ]
  },
  {
   "cell_type": "code",
   "execution_count": 115,
   "metadata": {},
   "outputs": [
    {
     "data": {
      "application/vnd.jupyter.widget-view+json": {
       "model_id": "",
       "version_major": 2,
       "version_minor": 0
      },
      "text/plain": [
       "FloatProgress(value=0.0, bar_style='info', description='Progress:', layout=Layout(height='25px', width='50%'),…"
      ]
     },
     "metadata": {},
     "output_type": "display_data"
    }
   ],
   "source": [
    "mapping_path = \"s3://citystatelatlongregion/city_state_lat_long_region/cities_with_region.csv\"\n",
    "output_path_daily = \"s3://wd3sampledata/wd3/\""
   ]
  },
  {
   "cell_type": "code",
   "execution_count": 5,
   "metadata": {},
   "outputs": [
    {
     "data": {
      "application/vnd.jupyter.widget-view+json": {
       "model_id": "",
       "version_major": 2,
       "version_minor": 0
      },
      "text/plain": [
       "FloatProgress(value=0.0, bar_style='info', description='Progress:', layout=Layout(height='25px', width='50%'),…"
      ]
     },
     "metadata": {},
     "output_type": "display_data"
    }
   ],
   "source": [
    "df_all = spark.read.option(\"header\", True).parquet(*base_paths)\n"
   ]
  },
  {
   "cell_type": "code",
   "execution_count": 110,
   "metadata": {},
   "outputs": [
    {
     "data": {
      "application/vnd.jupyter.widget-view+json": {
       "model_id": "",
       "version_major": 2,
       "version_minor": 0
      },
      "text/plain": [
       "FloatProgress(value=0.0, bar_style='info', description='Progress:', layout=Layout(height='25px', width='50%'),…"
      ]
     },
     "metadata": {},
     "output_type": "display_data"
    }
   ],
   "source": [
    "df_cleaned = df_all.withColumn(\n",
    "    \"city\",\n",
    "    regexp_extract(col(\"file_only\"), r\"/([^/]+?)(?:_\\d+)?\\.csv$\", 1)\n",
    ")"
   ]
  },
  {
   "cell_type": "code",
   "execution_count": 89,
   "metadata": {},
   "outputs": [
    {
     "data": {
      "application/vnd.jupyter.widget-view+json": {
       "model_id": "",
       "version_major": 2,
       "version_minor": 0
      },
      "text/plain": [
       "FloatProgress(value=0.0, bar_style='info', description='Progress:', layout=Layout(height='25px', width='50%'),…"
      ]
     },
     "metadata": {},
     "output_type": "display_data"
    }
   ],
   "source": [
    "df_with_city = df_cleaned.withColumn(\"city\", regexp_replace(\"city\", \"%20\", \" \")) \\\n",
    "               .withColumn(\"city\", initcap(\"city\")) \\\n",
    "               .withColumn(\"city\", regexp_replace(\"city\", \" \", \"\"))"
   ]
  },
  {
   "cell_type": "code",
   "execution_count": 90,
   "metadata": {},
   "outputs": [
    {
     "data": {
      "application/vnd.jupyter.widget-view+json": {
       "model_id": "",
       "version_major": 2,
       "version_minor": 0
      },
      "text/plain": [
       "FloatProgress(value=0.0, bar_style='info', description='Progress:', layout=Layout(height='25px', width='50%'),…"
      ]
     },
     "metadata": {},
     "output_type": "display_data"
    }
   ],
   "source": [
    "df_filled = df_with_city.fillna({\"snow_depth\": 0})\n"
   ]
  },
  {
   "cell_type": "code",
   "execution_count": 91,
   "metadata": {},
   "outputs": [
    {
     "data": {
      "application/vnd.jupyter.widget-view+json": {
       "model_id": "",
       "version_major": 2,
       "version_minor": 0
      },
      "text/plain": [
       "FloatProgress(value=0.0, bar_style='info', description='Progress:', layout=Layout(height='25px', width='50%'),…"
      ]
     },
     "metadata": {},
     "output_type": "display_data"
    }
   ],
   "source": [
    "# ------------------- City Classification -------------------\n",
    "city_file_counts = df_with_city.groupBy(\"city\") \\\n",
    "    .agg(F.countDistinct(\"file_only\").alias(\"file_count\"))\n",
    "\n",
    "multi_city_list = city_file_counts.filter(\"file_count > 1\").select(\"city\").rdd.flatMap(lambda x: x).collect()\n",
    "single_city_list = city_file_counts.filter(\"file_count = 1\").select(\"city\").rdd.flatMap(lambda x: x).collect()\n"
   ]
  },
  {
   "cell_type": "code",
   "execution_count": 92,
   "metadata": {},
   "outputs": [
    {
     "data": {
      "application/vnd.jupyter.widget-view+json": {
       "model_id": "",
       "version_major": 2,
       "version_minor": 0
      },
      "text/plain": [
       "FloatProgress(value=0.0, bar_style='info', description='Progress:', layout=Layout(height='25px', width='50%'),…"
      ]
     },
     "metadata": {},
     "output_type": "display_data"
    }
   ],
   "source": [
    "# ------------------- Aggregation Function -------------------\n",
    "def create_daily_agg(df_input):\n",
    "    df = df_input.withColumn(\"datetime_ts\", to_timestamp(\"date\")) \\\n",
    "                 .withColumn(\"date\", to_date(col(\"datetime_ts\"))) \\\n",
    "                 .withColumn(\"year\", F.year(col(\"date\"))) \\\n",
    "                 .withColumn(\"month\", F.month(col(\"date\")))\n",
    "\n",
    "    agg_exprs = [\n",
    "        F.avg(\"temperature_2m\").alias(\"temperature_2m\"),\n",
    "        F.avg(\"relative_humidity_2m\").alias(\"relative_humidity_2m\"),\n",
    "        F.avg(\"dew_point_2m\").alias(\"dew_point_2m\"),\n",
    "        F.avg(\"apparent_temperature\").alias(\"apparent_temperature\"),\n",
    "\n",
    "        F.sum(\"precipitation\").alias(\"precipitation\"),\n",
    "        F.sum(\"rain\").alias(\"rain\"),\n",
    "        F.sum(\"snowfall\").alias(\"snowfall\"),\n",
    "        F.sum(\"snow_depth\").alias(\"snow_depth\"),\n",
    "\n",
    "        F.avg(\"pressure_msl\").alias(\"pressure_msl\"),\n",
    "        F.avg(\"surface_pressure\").alias(\"surface_pressure\"),\n",
    "\n",
    "        F.avg(\"cloud_cover\").alias(\"cloud_cover\"),\n",
    "        F.avg(\"cloud_cover_low\").alias(\"cloud_cover_low\"),\n",
    "        F.avg(\"cloud_cover_mid\").alias(\"cloud_cover_mid\"),\n",
    "        F.avg(\"cloud_cover_high\").alias(\"cloud_cover_high\"),\n",
    "\n",
    "        F.avg(\"wind_speed_10m\").alias(\"wind_speed_10m\"),\n",
    "        F.avg(\"wind_speed_100m\").alias(\"wind_speed_100m\"),\n",
    "        F.avg(\"wind_direction_10m\").alias(\"wind_direction_10m\"),\n",
    "        F.avg(\"wind_direction_100m\").alias(\"wind_direction_100m\"),\n",
    "        F.max(\"wind_gusts_10m\").alias(\"wind_gusts_10m\")\n",
    "    ]\n",
    "    df_daily = df.groupBy(\"date\", \"year\", \"month\", \"city\").agg(*agg_exprs)\n",
    "    return df_daily.orderBy(\"date\", \"city\")"
   ]
  },
  {
   "cell_type": "code",
   "execution_count": 93,
   "metadata": {},
   "outputs": [
    {
     "data": {
      "application/vnd.jupyter.widget-view+json": {
       "model_id": "",
       "version_major": 2,
       "version_minor": 0
      },
      "text/plain": [
       "FloatProgress(value=0.0, bar_style='info', description='Progress:', layout=Layout(height='25px', width='50%'),…"
      ]
     },
     "metadata": {},
     "output_type": "display_data"
    }
   ],
   "source": [
    "# ==================== MULTI-FILE MERGING ====================\n",
    "df_multi = df_filled.filter(col(\"city\").isin(multi_city_list))\n"
   ]
  },
  {
   "cell_type": "code",
   "execution_count": 94,
   "metadata": {},
   "outputs": [
    {
     "data": {
      "application/vnd.jupyter.widget-view+json": {
       "model_id": "",
       "version_major": 2,
       "version_minor": 0
      },
      "text/plain": [
       "FloatProgress(value=0.0, bar_style='info', description='Progress:', layout=Layout(height='25px', width='50%'),…"
      ]
     },
     "metadata": {},
     "output_type": "display_data"
    }
   ],
   "source": [
    "# Merge multiple files by date + city\n",
    "numeric_cols = [c for c, t in df_multi.dtypes if t in ['double', 'int', 'float', 'long'] and c not in ['date', 'city']]\n",
    "string_cols = [c for c, t in df_multi.dtypes if t in ['string'] and c not in ['date', 'city']]\n",
    "\n",
    "merge_exprs = (\n",
    "    [F.avg(col(c)).alias(c) for c in numeric_cols] +\n",
    "    [F.first(col(c), ignorenulls=True).alias(c) for c in string_cols]\n",
    ")"
   ]
  },
  {
   "cell_type": "code",
   "execution_count": 96,
   "metadata": {},
   "outputs": [
    {
     "data": {
      "application/vnd.jupyter.widget-view+json": {
       "model_id": "",
       "version_major": 2,
       "version_minor": 0
      },
      "text/plain": [
       "FloatProgress(value=0.0, bar_style='info', description='Progress:', layout=Layout(height='25px', width='50%'),…"
      ]
     },
     "metadata": {},
     "output_type": "display_data"
    }
   ],
   "source": [
    "df_merged = df_multi.groupBy(\"date\", \"city\").agg(*merge_exprs)\n",
    "df_12hr_multi = create_daily_agg(df_merged)"
   ]
  },
  {
   "cell_type": "code",
   "execution_count": 97,
   "metadata": {},
   "outputs": [
    {
     "data": {
      "application/vnd.jupyter.widget-view+json": {
       "model_id": "",
       "version_major": 2,
       "version_minor": 0
      },
      "text/plain": [
       "FloatProgress(value=0.0, bar_style='info', description='Progress:', layout=Layout(height='25px', width='50%'),…"
      ]
     },
     "metadata": {},
     "output_type": "display_data"
    }
   ],
   "source": [
    "\n",
    "# ==================== SINGLE FILE CITIES ====================\n",
    "df_single = df_filled.filter(col(\"city\").isin(single_city_list))\n",
    "df_12hr_single = create_daily_agg(df_single)"
   ]
  },
  {
   "cell_type": "code",
   "execution_count": 100,
   "metadata": {},
   "outputs": [
    {
     "data": {
      "application/vnd.jupyter.widget-view+json": {
       "model_id": "",
       "version_major": 2,
       "version_minor": 0
      },
      "text/plain": [
       "FloatProgress(value=0.0, bar_style='info', description='Progress:', layout=Layout(height='25px', width='50%'),…"
      ]
     },
     "metadata": {},
     "output_type": "display_data"
    },
    {
     "name": "stdout",
     "output_type": "stream",
     "text": [
      "['date', 'year', 'month', 'city', 'temperature_2m', 'relative_humidity_2m', 'dew_point_2m', 'apparent_temperature', 'precipitation', 'rain', 'snowfall', 'snow_depth', 'pressure_msl', 'surface_pressure', 'cloud_cover', 'cloud_cover_low', 'cloud_cover_mid', 'cloud_cover_high', 'wind_speed_10m', 'wind_speed_100m', 'wind_direction_10m', 'wind_direction_100m', 'wind_gusts_10m']"
     ]
    }
   ],
   "source": [
    "df_12hr_single.columns"
   ]
  },
  {
   "cell_type": "code",
   "execution_count": 101,
   "metadata": {},
   "outputs": [
    {
     "data": {
      "application/vnd.jupyter.widget-view+json": {
       "model_id": "",
       "version_major": 2,
       "version_minor": 0
      },
      "text/plain": [
       "FloatProgress(value=0.0, bar_style='info', description='Progress:', layout=Layout(height='25px', width='50%'),…"
      ]
     },
     "metadata": {},
     "output_type": "display_data"
    }
   ],
   "source": [
    "# ==================== FINAL UNION ====================\n",
    "df_12hr_final = df_12hr_multi.unionByName(df_12hr_single).orderBy(\"date\", \"city\")\n"
   ]
  },
  {
   "cell_type": "code",
   "execution_count": 116,
   "metadata": {},
   "outputs": [
    {
     "data": {
      "application/vnd.jupyter.widget-view+json": {
       "model_id": "",
       "version_major": 2,
       "version_minor": 0
      },
      "text/plain": [
       "FloatProgress(value=0.0, bar_style='info', description='Progress:', layout=Layout(height='25px', width='50%'),…"
      ]
     },
     "metadata": {},
     "output_type": "display_data"
    }
   ],
   "source": [
    "# ------------------- Mapping Data with Region -------------------\n",
    "df_mapping = (\n",
    "    spark.read.option(\"header\", True).csv(mapping_path)\n",
    "    .withColumn(\"latitude\", col(\"latitude\").cast(\"double\"))\n",
    "    .withColumn(\"longitude\", col(\"longitude\").cast(\"double\"))\n",
    "    .withColumn(\"city\", regexp_replace(\"city\", \"%20\", \" \"))\n",
    "    .withColumn(\"city\", initcap(\"city\"))\n",
    "    .withColumn(\"city\", regexp_replace(\"city\", \" \", \"\"))\n",
    "    .withColumn(\"state\", initcap(\"state\"))\n",
    "    .withColumn(\"region\", initcap(\"region\")) \n",
    ")"
   ]
  },
  {
   "cell_type": "code",
   "execution_count": 117,
   "metadata": {},
   "outputs": [
    {
     "data": {
      "application/vnd.jupyter.widget-view+json": {
       "model_id": "",
       "version_major": 2,
       "version_minor": 0
      },
      "text/plain": [
       "FloatProgress(value=0.0, bar_style='info', description='Progress:', layout=Layout(height='25px', width='50%'),…"
      ]
     },
     "metadata": {},
     "output_type": "display_data"
    }
   ],
   "source": [
    "df_mapped = df_daily_final.join(\n",
    "    df_mapping.select(\"city\", \"state\", \"latitude\", \"longitude\",\"region\"),\n",
    "    on=\"city\", how=\"left\"\n",
    ")\n"
   ]
  },
  {
   "cell_type": "code",
   "execution_count": 118,
   "metadata": {},
   "outputs": [
    {
     "data": {
      "application/vnd.jupyter.widget-view+json": {
       "model_id": "",
       "version_major": 2,
       "version_minor": 0
      },
      "text/plain": [
       "FloatProgress(value=0.0, bar_style='info', description='Progress:', layout=Layout(height='25px', width='50%'),…"
      ]
     },
     "metadata": {},
     "output_type": "display_data"
    },
    {
     "name": "stdout",
     "output_type": "stream",
     "text": [
      "['city', 'date', 'year', 'month', 'temperature_2m', 'relative_humidity_2m', 'dew_point_2m', 'apparent_temperature', 'max_temperature_2m', 'min_temperature_2m', 'precipitation', 'rain', 'snowfall', 'snow_depth', 'pressure_msl', 'surface_pressure', 'cloud_cover', 'cloud_cover_low', 'cloud_cover_mid', 'cloud_cover_high', 'wind_speed_10m', 'wind_speed_100m', 'wind_direction_10m', 'wind_direction_100m', 'wind_gusts_10m', 'state', 'latitude', 'longitude', 'region']"
     ]
    }
   ],
   "source": [
    "df_mapped.columns"
   ]
  },
  {
   "cell_type": "code",
   "execution_count": 119,
   "metadata": {},
   "outputs": [
    {
     "data": {
      "application/vnd.jupyter.widget-view+json": {
       "model_id": "",
       "version_major": 2,
       "version_minor": 0
      },
      "text/plain": [
       "FloatProgress(value=0.0, bar_style='info', description='Progress:', layout=Layout(height='25px', width='50%'),…"
      ]
     },
     "metadata": {},
     "output_type": "display_data"
    },
    {
     "name": "stdout",
     "output_type": "stream",
     "text": [
      "+---------+----------+----+-----+--------------+--------------------+------------------+--------------------+------------------+------------------+-------------+----+--------+----------+------------------+-----------------+-----------------+------------------+------------------+-----------------+-----------------+------------------+------------------+-------------------+--------------+----------+--------+---------+------+\n",
      "|     city|      date|year|month|temperature_2m|relative_humidity_2m|      dew_point_2m|apparent_temperature|max_temperature_2m|min_temperature_2m|precipitation|rain|snowfall|snow_depth|      pressure_msl| surface_pressure|      cloud_cover|   cloud_cover_low|   cloud_cover_mid| cloud_cover_high|   wind_speed_10m|   wind_speed_100m|wind_direction_10m|wind_direction_100m|wind_gusts_10m|     state|latitude|longitude|region|\n",
      "+---------+----------+----+-----+--------------+--------------------+------------------+--------------------+------------------+------------------+-------------+----+--------+----------+------------------+-----------------+-----------------+------------------+------------------+-----------------+-----------------+------------------+------------------+-------------------+--------------+----------+--------+---------+------+\n",
      "|     Obra|2014-01-01|2014|    1|         22.05|            58.16985|             13.45|           22.459938|             22.05|             22.05|          0.0| 0.0|     0.0|       0.0|            1018.2|       1006.49725|              0.0|               0.0|               0.0|              0.0|         9.449572|         11.480557|         319.63553|          318.81418|     23.039999|     Bihar|   24.42|    82.98|  East|\n",
      "|Odaipatti|2014-01-01|2014|    1|  22.186999625|   67.43728820833333|15.380749791666664|   22.98214308333333|            27.587|            18.237|          0.0| 0.0|     0.0|       0.0|1014.0124999999999|970.5783916666666|43.92083316666666|39.041666666666664|12.291666666666666|5.958333333333333|7.628619774999998|11.327671358333333| 86.29180841666665|  55.30052689166667|          39.6|Tamil Nadu|  9.8323|  77.4433| South|\n",
      "+---------+----------+----+-----+--------------+--------------------+------------------+--------------------+------------------+------------------+-------------+----+--------+----------+------------------+-----------------+-----------------+------------------+------------------+-----------------+-----------------+------------------+------------------+-------------------+--------------+----------+--------+---------+------+\n",
      "only showing top 2 rows"
     ]
    }
   ],
   "source": [
    "df_mapped.show(2)"
   ]
  },
  {
   "cell_type": "code",
   "execution_count": 120,
   "metadata": {},
   "outputs": [
    {
     "data": {
      "application/vnd.jupyter.widget-view+json": {
       "model_id": "",
       "version_major": 2,
       "version_minor": 0
      },
      "text/plain": [
       "FloatProgress(value=0.0, bar_style='info', description='Progress:', layout=Layout(height='25px', width='50%'),…"
      ]
     },
     "metadata": {},
     "output_type": "display_data"
    }
   ],
   "source": [
    "df_mapped.write.mode(\"overwrite\").partitionBy(\"state\").parquet(output_path_daily)\n"
   ]
  }
 ],
 "metadata": {
  "kernelspec": {
   "display_name": "PySpark",
   "language": "",
   "name": "pysparkkernel"
  },
  "language_info": {
   "codemirror_mode": {
    "name": "python",
    "version": 3
   },
   "mimetype": "text/x-python",
   "name": "pyspark",
   "pygments_lexer": "python3"
  }
 },
 "nbformat": 4,
 "nbformat_minor": 4
}
