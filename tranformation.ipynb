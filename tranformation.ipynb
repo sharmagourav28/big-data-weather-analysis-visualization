{
 "cells": [
  {
   "cell_type": "code",
   "execution_count": null,
   "id": "3545e804",
   "metadata": {
    "vscode": {
     "languageId": "pyspark"
    }
   },
   "outputs": [
    {
     "name": "stdout",
     "output_type": "stream",
     "text": [
      "Starting Spark application\n"
     ]
    },
    {
     "data": {
      "text/html": [
       "<table>\n",
       "<tr><th>ID</th><th>YARN Application ID</th><th>Kind</th><th>State</th><th>Spark UI</th><th>Driver log</th><th>Current session?</th></tr><tr><td>0</td><td>application_1754910463850_0001</td><td>pyspark</td><td>idle</td><td><a target=\"_blank\" href=\"http://ip-172-31-0-243.ec2.internal:20888/proxy/application_1754910463850_0001/\">Link</a></td><td><a target=\"_blank\" href=\"http://ip-172-31-3-212.ec2.internal:8042/node/containerlogs/container_1754910463850_0001_01_000001/livy\">Link</a></td><td>✔</td></tr></table>"
      ],
      "text/plain": [
       "<IPython.core.display.HTML object>"
      ]
     },
     "metadata": {},
     "output_type": "display_data"
    },
    {
     "data": {
      "application/vnd.jupyter.widget-view+json": {
       "model_id": "",
       "version_major": 2,
       "version_minor": 0
      },
      "text/plain": [
       "FloatProgress(value=0.0, bar_style='info', description='Progress:', layout=Layout(height='25px', width='50%'),…"
      ]
     },
     "metadata": {},
     "output_type": "display_data"
    },
    {
     "name": "stdout",
     "output_type": "stream",
     "text": [
      "SparkSession available as 'spark'.\n"
     ]
    },
    {
     "data": {
      "application/vnd.jupyter.widget-view+json": {
       "model_id": "",
       "version_major": 2,
       "version_minor": 0
      },
      "text/plain": [
       "FloatProgress(value=0.0, bar_style='info', description='Progress:', layout=Layout(height='25px', width='50%'),…"
      ]
     },
     "metadata": {},
     "output_type": "display_data"
    }
   ],
   "source": [
    "from pyspark.sql.functions import col, to_timestamp, year, input_file_name\n"
   ]
  },
  {
   "cell_type": "code",
   "execution_count": null,
   "id": "d79b4f34",
   "metadata": {
    "vscode": {
     "languageId": "pyspark"
    }
   },
   "outputs": [
    {
     "data": {
      "application/vnd.jupyter.widget-view+json": {
       "model_id": "",
       "version_major": 2,
       "version_minor": 0
      },
      "text/plain": [
       "FloatProgress(value=0.0, bar_style='info', description='Progress:', layout=Layout(height='25px', width='50%'),…"
      ]
     },
     "metadata": {},
     "output_type": "display_data"
    }
   ],
   "source": [
    "df = spark.read.option(\"header\", True).csv(\"s3://proc-buc-003452613/moba/all_weather_data/\") \\\n",
    "    .withColumn(\"file_only\", input_file_name())\n"
   ]
  },
  {
   "cell_type": "code",
   "execution_count": null,
   "id": "570429ef",
   "metadata": {
    "vscode": {
     "languageId": "pyspark"
    }
   },
   "outputs": [
    {
     "data": {
      "application/vnd.jupyter.widget-view+json": {
       "model_id": "",
       "version_major": 2,
       "version_minor": 0
      },
      "text/plain": [
       "FloatProgress(value=0.0, bar_style='info', description='Progress:', layout=Layout(height='25px', width='50%'),…"
      ]
     },
     "metadata": {},
     "output_type": "display_data"
    }
   ],
   "source": [
    "# Filter using year from timestamp\n",
    "df_filtered = df.filter((year(col(\"date\")) >= 2014) & (year(col(\"date\")) <= 2023))\n"
   ]
  },
  {
   "cell_type": "code",
   "execution_count": null,
   "id": "5f8882da",
   "metadata": {
    "vscode": {
     "languageId": "pyspark"
    }
   },
   "outputs": [
    {
     "data": {
      "application/vnd.jupyter.widget-view+json": {
       "model_id": "",
       "version_major": 2,
       "version_minor": 0
      },
      "text/plain": [
       "FloatProgress(value=0.0, bar_style='info', description='Progress:', layout=Layout(height='25px', width='50%'),…"
      ]
     },
     "metadata": {},
     "output_type": "display_data"
    }
   ],
   "source": [
    "df_filtered.repartition(50) \\\n",
    "    .write.mode(\"overwrite\") \\\n",
    "    .parquet(\"s3://wd2-csvtoparquet/wd2/\")"
   ]
  },
  {
   "cell_type": "code",
   "execution_count": null,
   "id": "d83c2029",
   "metadata": {
    "vscode": {
     "languageId": "pyspark"
    }
   },
   "outputs": [
    {
     "data": {
      "application/vnd.jupyter.widget-view+json": {
       "model_id": "",
       "version_major": 2,
       "version_minor": 0
      },
      "text/plain": [
       "FloatProgress(value=0.0, bar_style='info', description='Progress:', layout=Layout(height='25px', width='50%'),…"
      ]
     },
     "metadata": {},
     "output_type": "display_data"
    },
    {
     "name": "stdout",
     "output_type": "stream",
     "text": [
      "+-----+--------------------+--------------+--------------------+------------+--------------------+-------------+----+--------+----------+------------+----------------+-----------+---------------+---------------+----------------+--------------+---------------+------------------+-------------------+--------------+--------------------+\n",
      "|  _c0|                date|temperature_2m|relative_humidity_2m|dew_point_2m|apparent_temperature|precipitation|rain|snowfall|snow_depth|pressure_msl|surface_pressure|cloud_cover|cloud_cover_low|cloud_cover_mid|cloud_cover_high|wind_speed_10m|wind_speed_100m|wind_direction_10m|wind_direction_100m|wind_gusts_10m|           file_only|\n",
      "+-----+--------------------+--------------+--------------------+------------+--------------------+-------------+----+--------+----------+------------+----------------+-----------+---------------+---------------+----------------+--------------+---------------+------------------+-------------------+--------------+--------------------+\n",
      "|35064|2014-01-01 00:00:...|       23.4305|           80.239845|     19.8305|           25.202944|          0.0| 0.0|     0.0|       0.0|      1012.8|      1011.40125|       38.7|           13.0|           45.0|             0.0|      13.75558|      23.377836|         6.0089183|           9.752367|          23.4|s3://proc-buc-003...|\n",
      "|35065|2014-01-01 01:00:...|       23.4305|           79.496765|     19.6805|           25.018274|          0.0| 0.0|     0.0|       0.0|      1013.0|        1011.601|       39.6|           12.0|           48.0|             0.0|     14.512064|       23.73271|           7.12493|           9.605136|     24.119999|s3://proc-buc-003...|\n",
      "+-----+--------------------+--------------+--------------------+------------+--------------------+-------------+----+--------+----------+------------+----------------+-----------+---------------+---------------+----------------+--------------+---------------+------------------+-------------------+--------------+--------------------+\n",
      "only showing top 2 rows"
     ]
    }
   ],
   "source": [
    "df_filtered.show(2)"
   ]
  },
  {
   "cell_type": "code",
   "execution_count": null,
   "id": "94997eff",
   "metadata": {
    "vscode": {
     "languageId": "pyspark"
    }
   },
   "outputs": [
    {
     "data": {
      "application/vnd.jupyter.widget-view+json": {
       "model_id": "",
       "version_major": 2,
       "version_minor": 0
      },
      "text/plain": [
       "FloatProgress(value=0.0, bar_style='info', description='Progress:', layout=Layout(height='25px', width='50%'),…"
      ]
     },
     "metadata": {},
     "output_type": "display_data"
    },
    {
     "name": "stdout",
     "output_type": "stream",
     "text": [
      "+-------------------------+\n",
      "|date                     |\n",
      "+-------------------------+\n",
      "|2010-01-01 00:00:00+00:00|\n",
      "|2010-01-01 01:00:00+00:00|\n",
      "|2010-01-01 02:00:00+00:00|\n",
      "|2010-01-01 03:00:00+00:00|\n",
      "|2010-01-01 04:00:00+00:00|\n",
      "+-------------------------+\n",
      "only showing top 5 rows"
     ]
    }
   ],
   "source": [
    "df.select(\"date\").show(5, truncate=False)\n"
   ]
  },
  {
   "cell_type": "code",
   "execution_count": null,
   "id": "4605b71a",
   "metadata": {
    "vscode": {
     "languageId": "pyspark"
    }
   },
   "outputs": [],
   "source": []
  }
 ],
 "metadata": {
  "language_info": {
   "name": "python"
  }
 },
 "nbformat": 4,
 "nbformat_minor": 5
}
